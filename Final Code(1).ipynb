{
 "cells": [
  {
   "cell_type": "markdown",
   "metadata": {
    "collapsed": false
   },
   "source": [
    "# Used Car Catalog Analysis\n",
    "\n",
    "The dataset was collected from Kaggle’s “Used\\-cars\\-catalog” dataset which was web\\-scraped from a used car website in Belarus \\(eastern Europe\\) in December 2019. \n"
   ]
  },
  {
   "cell_type": "code",
   "execution_count": 0,
   "metadata": {
    "collapsed": false
   },
   "outputs": [
   ],
   "source": [
    "import pandas as pd\n",
    "import plotly.express as px\n",
    "import plotly.graph_objects as go\n",
    "from plotly.subplots import make_subplots"
   ]
  },
  {
   "cell_type": "code",
   "execution_count": 0,
   "metadata": {
    "collapsed": false
   },
   "outputs": [
   ],
   "source": [
    "cars_df = pd.read_csv('data/car_data.csv')"
   ]
  },
  {
   "cell_type": "code",
   "execution_count": 0,
   "metadata": {
    "collapsed": false
   },
   "outputs": [
   ],
   "source": [
    "cars_df.head(5)"
   ]
  },
  {
   "cell_type": "code",
   "execution_count": 0,
   "metadata": {
    "collapsed": false
   },
   "outputs": [
   ],
   "source": [
    "cars_df.info()"
   ]
  },
  {
   "cell_type": "code",
   "execution_count": 0,
   "metadata": {
    "collapsed": false
   },
   "outputs": [
   ],
   "source": [
    "#List of columns to drop\n",
    "columns_to_drop = ['feature_0', 'feature_1', 'feature_2',\n",
    "       'feature_3', 'feature_4', 'feature_5', 'feature_6', 'feature_7',\n",
    "       'feature_8', 'feature_9', 'engine_fuel', 'up_counter']\n",
    "\n",
    "#Columns are dropped\n",
    "cars_df.drop(columns_to_drop, axis=1, inplace = True) #axis = 1 lets pandas know we are dropping columns, not rows.\n",
    "\n",
    "#Translating russian to english\n",
    "cars_df[\"location_region\"].replace({\"Минская обл.\":\"Minsk\",\"Гомельская обл.\":\"Gomel\", \"Витебская обл.\":\"Vitebsk\", \"Брестская обл.\":\"Brest\", \"Могилевская обл.\":\"Mogilev\", \"Гродненская обл.\":\"Grodno\"}, inplace=True)"
   ]
  },
  {
   "cell_type": "markdown",
   "metadata": {
    "collapsed": false
   },
   "source": [
    "# Relationship Between Car Features and Duration Listed\n",
    "\n"
   ]
  },
  {
   "cell_type": "markdown",
   "metadata": {
    "collapsed": false
   },
   "source": [
    "This data study is centered on the question: How do car features, like manufacturer or transmission, affect the duration of the car’s listing before getting sold? We investigated how features like transmission, drivetrain, price or odometer value have an affect on the duration of the specific car’s listing. We hypothesize that there will be differences among the car features that affect the duration of the car’s listing. \n",
    "\n"
   ]
  },
  {
   "cell_type": "code",
   "execution_count": 0,
   "metadata": {
    "collapsed": false
   },
   "outputs": [
   ],
   "source": [
    "x = cars_df['manufacturer_name'].value_counts()\n",
    "y, y2=[], []\n",
    "for name in x.index:\n",
    "    y.append(cars_df[cars_df[\"manufacturer_name\"] == name]['duration_listed'].mean())\n",
    "    y2.append(cars_df[cars_df[\"manufacturer_name\"] == name]['price_usd'].mean())\n",
    "z={\n",
    "    \"Manufacturer Name\":x.index,\n",
    "    \"Average Time (Days)\":y,\n",
    "    \"Average Price\":y2\n",
    "}\n",
    "avgPrice_df = pd.DataFrame(data=z)\n",
    "avgPrice_df.sort_values(by=\"Average Time (Days)\", ascending=True, inplace=True)\n",
    "\n",
    "box_manufacturer = px.bar(avgPrice_df, x=\"Manufacturer Name\", y=\"Average Time (Days)\", color=\"Average Price\", color_continuous_scale=\"Bluered\")\n",
    "box_manufacturer.update_layout(\n",
    "    title = 'Manufacturer Name VS Average Duration Before Car Sold',\n",
    "    width=1100\n",
    ")\n",
    "\n",
    "box_manufacturer.show()"
   ]
  },
  {
   "cell_type": "markdown",
   "metadata": {
    "collapsed": false
   },
   "source": [
    "This figure represents the average duration of each manufacturer before the car got sold and the average price. As shown in the figure the average time to sell the a car is dependent on the manufacturer. One factor we believe influences the differences in manufacturer sale times is the average price. Cheaper cars like Mazda, Rover and Honda have a less average listing duration than expensive cars such as Jaguars, Jeep and Lincoln. There are a few exceptions, such as expensive cars like Skoda being sold a lot quicker than a cheaper car, like Lancia. \n",
    "\n"
   ]
  },
  {
   "cell_type": "code",
   "execution_count": 0,
   "metadata": {
    "collapsed": false
   },
   "outputs": [
   ],
   "source": [
    "y=[]\n",
    "\n",
    "for i in cars_df[\"price_usd\"]:\n",
    "    if(i<=10000):\n",
    "        y.append(\"0-10K\")\n",
    "    elif(i<=20000):\n",
    "        y.append(\"10K-20K\")\n",
    "    elif(i<=30000):\n",
    "        y.append(\"20K-30K\")\n",
    "    elif(i<=40000):\n",
    "        y.append(\"30K-40K\")\n",
    "    elif(i<=50000):\n",
    "        y.append(\"40K-50K\")\n",
    "\n",
    "z={\n",
    "    \"Price(USD)\":y,\n",
    "    \"Time\":cars_df['duration_listed'],\n",
    "    \"Price\":cars_df['price_usd']\n",
    "}\n",
    "avgPrice_df = pd.DataFrame(data=z)\n",
    "avgPrice_df.sort_values(by=\"Price(USD)\", ascending=True, inplace=True)\n",
    "box_manufacturer = px.box(avgPrice_df, x=\"Price(USD)\", y=\"Time\", range_y=[0,320])\n",
    "\n",
    "box_manufacturer.update_layout(\n",
    "    width = 600,\n",
    "    height = 450,\n",
    "    title = 'Price(USD) VS Time(Days)',\n",
    "    showlegend = False\n",
    ")\n",
    "\n",
    "box_manufacturer.show()"
   ]
  },
  {
   "cell_type": "markdown",
   "metadata": {
    "collapsed": false
   },
   "source": [
    "This figure represents the listing duration before the car was sold and the price. The figures show that the duration before being sold is not very dependent on price. Most of the price ranges have similar 1st and 3rd quartiles. An exception is 40K to 50K price range which had a larger 3rd quartile, representing that a large proportion of cars in this price range took longer to sell. \n",
    "\n"
   ]
  },
  {
   "cell_type": "code",
   "execution_count": 0,
   "metadata": {
    "collapsed": false
   },
   "outputs": [
   ],
   "source": [
    "k=[]\n",
    "\n",
    "for i in cars_df[\"odometer_value\"]:\n",
    "    if (i<=200000):\n",
    "        k.append(\"0-200K\")\n",
    "    elif (i<=400000):\n",
    "        k.append(\"200K-400K\")\n",
    "    elif (i<=600000):\n",
    "        k.append(\"400K-600K\")\n",
    "    elif (i<=800000):\n",
    "        k.append(\"600K-800K\")\n",
    "    elif (i<=1000000):\n",
    "        k.append(\"800K-1000K\")\n",
    "\n",
    "z={\n",
    "    \"Odometer(Kilometers)\":k,\n",
    "    \"Time(Days)\":cars_df['duration_listed'],\n",
    "    \"Odometer(KM)\":cars_df['odometer_value']\n",
    "}\n",
    "avgPrice_df = pd.DataFrame(data=z)\n",
    "avgPrice_df.sort_values(by=\"Odometer(KM)\", ascending=True, inplace=True)\n",
    "box_manufacturer = px.box(avgPrice_df, x=\"Odometer(Kilometers)\", y=\"Time(Days)\", range_y=[0,250])\n",
    "\n",
    "box_manufacturer.update_layout(\n",
    "    width = 600,\n",
    "    height = 450,\n",
    "    title = 'Odometer VS Duration Before Car Sold'\n",
    ")\n",
    "box_manufacturer.show()"
   ]
  },
  {
   "cell_type": "markdown",
   "metadata": {
    "collapsed": false
   },
   "source": [
    "This figure represents the duration of the listing before the car got sold and the odometer meaning distance traveled in kilometers. In general, the time before being sold is not very dependent on the odometer value. This is surprising because we expected people to buy cars that have less odometer value as the car will last longer. However, the box plot shows cars with 600K\\-800K was sold around the same median time of 0\\-200K odometer value. There is a larger 3rd quartile range for the 800K\\-1000K group, but it's not as significant as we expected it to be. \n",
    "\n"
   ]
  },
  {
   "cell_type": "code",
   "execution_count": 0,
   "metadata": {
    "collapsed": false
   },
   "outputs": [
   ],
   "source": [
    "x = cars_df['body_type'].value_counts()\n",
    "y=[]\n",
    "for name in x.index:\n",
    "    y.append(cars_df[cars_df[\"body_type\"] == name]['duration_listed'].mean())\n",
    "z={\n",
    "    \"Body Type\":x.index,\n",
    "    \"Average Time(Days)\":y\n",
    "}\n",
    "avgPrice_df = pd.DataFrame(data=z)\n",
    "#avgPrice_df.sort_values(by=\"Average Time(Days)\", ascending=True, inplace=True)\n",
    "box_manufacturer = px.bar(avgPrice_df, x=\"Body Type\", y=\"Average Time(Days)\", color=\"Body Type\")\n",
    "box_manufacturer.update_layout(\n",
    "    title = 'Body Type VS Average Duration Before Car Sold',\n",
    "    width = 600,\n",
    "    height = 450,\n",
    "    showlegend=False\n",
    ")\n",
    "\n",
    "box_manufacturer.show()"
   ]
  },
  {
   "cell_type": "markdown",
   "metadata": {
    "collapsed": false
   },
   "source": [
    "This figure represents the average duration of the listing before the different body\\-type cars got sold. As shown by the figure, the demand for most body size cars is similar, typically ranging between being sold in 80 to 90 days. However, some notable exceptions are liftback, pickup, and cabriolet cars. Liftback were sold \n",
    "much quicker than other cars, while pickup and cabriolet cars took longer to sell.\n",
    "\n"
   ]
  },
  {
   "cell_type": "code",
   "execution_count": 0,
   "metadata": {
    "collapsed": false
   },
   "outputs": [
   ],
   "source": [
    "sc_yeardrive = px.box(cars_df, x=\"duration_listed\", y=\"drivetrain\", color=\"transmission\", range_x=[0,240], points='suspectedoutliers', notched=True)\n",
    "\n",
    "sc_yeardrive.update_layout(\n",
    "        width=1000\n",
    ")\n",
    "\n",
    "sc_yeardrive.show()"
   ]
  },
  {
   "cell_type": "markdown",
   "metadata": {
    "collapsed": false
   },
   "source": [
    "This figure represents the duration of the listing before the cars got sold and the specifications. As shown in the graph, the drivetrain and transmission type do not largely affect the duration . However, automatic cars with all drivetrain or rear drivetrain took a little more time to sell than the rest. \n",
    "\n"
   ]
  },
  {
   "cell_type": "markdown",
   "metadata": {
    "collapsed": false
   },
   "source": [
    "# Conclusion \\- Relationship Between Car Features and Duration Listed\n",
    "\n",
    "The big question is, \"Does a car’s specification or manufacture affect the duration of the car’s listing before getting sold?\" From all the visuals and data we have seen, we can conclude that the manufacturer name has the greatest influence on the duration of a listing. Other features such as transmission, drivetrain, body type, or price did not greatly affect the duration time before being sold. There are are some exceptions in each case, but they are not very pronounced.\n",
    "\n"
   ]
  },
  {
   "cell_type": "markdown",
   "metadata": {
    "collapsed": false
   },
   "source": [
    "# Relationship Between Car Features and Price\n",
    "\n",
    "This part of the study was centralized on the question: Do different features affect the listing price of cars? We hypothesized that some features, like transmission and body type, may affect the price of the cars drastically. In addition, we hypothesized factors such as region and color would not really have that big of an impact on the price. To test this, we analyzed the different features listed in the dataset and compared how the color, manufacturer's name, manufactured region, and other factors may affect the listing price.\n",
    "\n"
   ]
  },
  {
   "cell_type": "code",
   "execution_count": 0,
   "metadata": {
    "collapsed": false
   },
   "outputs": [
   ],
   "source": [
    "x = cars_df['manufacturer_name'].value_counts()\n",
    "\n",
    "y, y2 = [], []\n",
    "for name in x.index:\n",
    "    y.append(cars_df[cars_df[\"manufacturer_name\"] == name]['price_usd'].mean())\n",
    "    y2.append(cars_df[cars_df[\"manufacturer_name\"] == name]['duration_listed'].mean())\n",
    "z={\n",
    "    \"Manufacturer Name\":x.index,\n",
    "    \"Average Price($)\":y,\n",
    "    \"Avg Duration Listed\":y2\n",
    "}\n",
    "avgPrice_df = pd.DataFrame(data=z)\n",
    "\n",
    "avgPrice_df.sort_values(by=\"Average Price($)\", ascending=True, inplace=True)\n",
    "\n",
    "box_manufacturer = px.bar(avgPrice_df, x=\"Manufacturer Name\", y=\"Average Price($)\", color=\"Avg Duration Listed\", color_continuous_scale=\"Bluered\")\n",
    "box_manufacturer.update_layout(\n",
    "    title=\"Average Price of Each Manufacturer's Car\",\n",
    "    width=1200\n",
    ")\n",
    "\n",
    "box_manufacturer.show()"
   ]
  },
  {
   "cell_type": "markdown",
   "metadata": {
    "collapsed": false
   },
   "source": [
    "This figure represents the average car price of each manufacturer. As shown by the figure, the average price is highly dependent on the manufacturer. For example, the average price of Porsche, Jaguar, Lexus, and Land Rover are among the highest average car prices. The difference in prices reflects how manufacturers create different quality products. In addition, it should be noted that most cars are sold before 150 days, excluding Lincoln and the two cheapest car brands.\n",
    "\n"
   ]
  },
  {
   "cell_type": "code",
   "execution_count": 0,
   "metadata": {
    "collapsed": false
   },
   "outputs": [
   ],
   "source": [
    "locs = cars_df[\"location_region\"].value_counts()\n",
    "locx = locs.index\n",
    "locy = []\n",
    "for location in locx:\n",
    "    mean = cars_df[cars_df[\"location_region\"] == location][\"price_usd\"].mean()\n",
    "    locy.append(mean)\n",
    "\n",
    "hist_location = px.histogram(x=locx, y=locy,\n",
    "                            labels={\n",
    "                                \"x\":\"Regions\"\n",
    "                            },\n",
    "                             color=locx,\n",
    "                             title=\"Average Price of Cars in Each Region\")\n",
    "hist_location.update_layout(height=500, width=750, yaxis_title=\"Average Price($)\", showlegend=False)\n",
    "hist_location.show()"
   ]
  },
  {
   "cell_type": "markdown",
   "metadata": {
    "collapsed": false
   },
   "source": [
    "This figure represents the average prices of cars in the regions they were sold in. As shown by the figure, the average price in Minsk Region is significantly higher than the average price of cars sold in the other regions. To understand why there are differences in average prices in each region, we further analyze the types of cars being sold in each region in the next plot.\n",
    "\n"
   ]
  },
  {
   "cell_type": "code",
   "execution_count": 0,
   "metadata": {
    "collapsed": false
   },
   "outputs": [
   ],
   "source": [
    "locs = cars_df[\"location_region\"].value_counts()\n",
    "locx = locs.index\n",
    "locy = []\n",
    "for location in locx:\n",
    "    mean = cars_df[cars_df[\"location_region\"] == location][\"price_usd\"].mean()\n",
    "    locy.append(mean)\n",
    "\n",
    "percent_df = pd.DataFrame(columns=[\"Manufacturer Name\", \"Minsk Region\", \"Gomel Region\", \"Vitebsk Region\", \"Brest Region\", \"Mogilev Region\", \"Grodno Region\"])\n",
    "\n",
    "maxPrice_df = avgPrice_df[\"Manufacturer Name\"].tail(10)\n",
    "\n",
    "for i in range(10):\n",
    "    car = maxPrice_df.iloc[i]\n",
    "    loclist = [car]\n",
    "    j = 0\n",
    "    for loc in locx:\n",
    "        num = len(cars_df[(cars_df[\"manufacturer_name\"] == car) & (cars_df[\"location_region\"] == loc)].index)\n",
    "        num /= locs.iloc[j]\n",
    "        num *= 100\n",
    "        loclist.append(num)\n",
    "        j += 1\n",
    "    percent_df.loc[i] = loclist\n",
    "\n",
    "car_colors = {'Cadillac':'red', 'Acura':'yellow', 'Buick':'blue', 'Mini':'orange', 'Infiniti':'green', 'Skoda':'purple', 'Land Rover':'grey',\n",
    "       'Lexus':'pink', 'Jaguar':'white', 'Porsche':'black'}\n",
    "\n",
    "def mapColors():\n",
    "    colors = []\n",
    "    for i in range(10):\n",
    "        colors.append(car_colors[percent_df[\"Manufacturer Name\"].iloc[i]])\n",
    "    return colors\n",
    "\n",
    "\n",
    "\n",
    "color_list = mapColors()\n",
    "\n",
    "fig_carlocs = make_subplots(rows=2, cols=3,\n",
    "                           subplot_titles=(\"Minsk Region\", \"Gomel Region\", \"Vitebsk Region\", \"Brest Region\", \"Mogilev Region\", \"Grodno Region\"),\n",
    "                           vertical_spacing = 0.15,\n",
    "                           x_title=\"Percent Market Share\",\n",
    "                           y_title=\"Luxury Car Manufacturer\",\n",
    "                           )\n",
    "\n",
    "trace0 = go.Bar(x=percent_df[\"Minsk Region\"], marker=dict(color = color_list), text=percent_df[\"Manufacturer Name\"], hoverlabel=dict(namelength=0))\n",
    "trace1 = go.Bar(x=percent_df[\"Gomel Region\"], marker=dict(color = color_list), text=percent_df[\"Manufacturer Name\"], hoverlabel=dict(namelength=0))\n",
    "trace2 = go.Bar(x=percent_df[\"Vitebsk Region\"], marker=dict(color = color_list), text=percent_df[\"Manufacturer Name\"], hoverlabel=dict(namelength=0))\n",
    "trace3 = go.Bar(x=percent_df[\"Brest Region\"], marker=dict(color = color_list), text=percent_df[\"Manufacturer Name\"], hoverlabel=dict(namelength=0))\n",
    "trace4 = go.Bar(x=percent_df[\"Mogilev Region\"], marker=dict(color = color_list), text=percent_df[\"Manufacturer Name\"], hoverlabel=dict(namelength=0))\n",
    "trace5 = go.Bar(x=percent_df[\"Grodno Region\"], marker=dict(color = color_list), text=percent_df[\"Manufacturer Name\"], hoverlabel=dict(namelength=0))\n",
    "\n",
    "fig_carlocs.append_trace(trace0, 1, 1)\n",
    "fig_carlocs.append_trace(trace1, 1, 2)\n",
    "fig_carlocs.append_trace(trace2, 1, 3)\n",
    "fig_carlocs.append_trace(trace3, 2, 1)\n",
    "fig_carlocs.append_trace(trace4, 2, 2)\n",
    "fig_carlocs.append_trace(trace5, 2, 3)\n",
    "\n",
    "\n",
    "fig_carlocs.update_layout(\n",
    "    title=\"Percent of Luxury Cars Sold in Each Region\",\n",
    "    width=1200,\n",
    "    height=650,\n",
    "    showlegend=False,\n",
    ")\n",
    "\n",
    "\n",
    "for i in range(1,7):\n",
    "    fig_carlocs['layout'][f'yaxis{i}']['showticklabels'] = False\n",
    "fig_carlocs.update_xaxes(range=[0, 4.])\n",
    "\n",
    "fig_carlocs.show()"
   ]
  },
  {
   "cell_type": "markdown",
   "metadata": {
    "collapsed": false
   },
   "source": [
    "This figure represents the proportion of luxury cars sold as a percentage of the total amount of cars sold in each region. In the graph, there is a higher proportion of luxury cars sold in the Minsk Region than in the others. For example, Skoda cars are sold in a higher proportion in the Minsk Region than in any other region. We believe the higher average price in Minsk is due to the fact that a higher percentage of luxury cars are sold in Minsk.\n",
    "\n"
   ]
  },
  {
   "cell_type": "code",
   "execution_count": 0,
   "metadata": {
    "collapsed": false
   },
   "outputs": [
   ],
   "source": [
    "box_color = px.box(cars_df, x=\"color\", y=\"price_usd\",\n",
    "                   labels={\"color\":\"Car Color\",\"price_usd\":\"Price (USD)\"},\n",
    "                   title=\"Color of car vs. Price\", range_y=[0,30000],\n",
    "                   notched = True,\n",
    "                   color='color',\n",
    "                   color_discrete_map={'silver':'lightslategrey','blue':'blue','red':'red', 'black':'black', 'grey':'grey', 'other':'purple',\n",
    "                                       'brown':'saddlebrown', 'white':'lightsteelblue', 'green':'green', 'violet':'violet', 'orange':'orange', 'yellow':'yellow'\n",
    "                                           }\n",
    "                  )\n",
    "\n",
    "box_color.update_layout(\n",
    "    width = 1100,\n",
    "    height = 500,\n",
    "    showlegend = False\n",
    ")\n",
    "\n",
    "box_color.show()"
   ]
  },
  {
   "cell_type": "markdown",
   "metadata": {
    "collapsed": false
   },
   "source": [
    "This figure represents the prices of cars based on their color. Some colors like brown, black, white, and grey have slightly higher median prices, but most of the colors have a similar distribution of prices. This matches our hypothesis that color is not a major factor in determining a car's price.\n"
   ]
  },
  {
   "cell_type": "code",
   "execution_count": 0,
   "metadata": {
    "collapsed": false
   },
   "outputs": [
   ],
   "source": [
    "sc_yeardrive = px.scatter(cars_df, x=\"year_produced\", y=\"price_usd\", color=\"drivetrain\", facet_col =\"transmission\",\n",
    "                         labels={\n",
    "                             \"price_usd\":\"Price (USD)\",\n",
    "                             \"year_produced\":\"Year Produced\",\n",
    "                             \"drivetrain\":\"Drivetrain\"\n",
    "                         },\n",
    "                         title=\"Year produced vs. Price\", marginal_x='histogram')\n",
    "sc_yeardrive.update_layout(height=500, width=800)\n",
    "sc_yeardrive.show()"
   ]
  },
  {
   "cell_type": "markdown",
   "metadata": {
    "collapsed": false
   },
   "source": [
    "This figure represents the relation between the price of a car and the year it was produced. Cars are further separated by transmission and drivetrain, and the graph shows that cars with mechanical transmissions were produced earlier and sell for lower prices than cars with automatic transmissions. Additionally, cars with an all drivetrain have a higher price range. This is more noticeable on the graph of cars with automatic transmission, while cars with mechanical transmission have a lower range with a few outliers. The next highest range is cars with a rear drivetrain. Cars with a front drivetrain have a lower price range, despite being the most common type of car, as shown on the histograms above.\n"
   ]
  },
  {
   "cell_type": "code",
   "execution_count": 0,
   "metadata": {
    "collapsed": false
   },
   "outputs": [
   ],
   "source": [
    "box_engine = px.box(cars_df, x=\"body_type\", y=\"price_usd\", color=\"engine_type\",\n",
    "                   labels={\n",
    "                       \"body_type\":\"Body Type\",\n",
    "                       \"engine_type\":\"Engine Type\",\n",
    "                       \"price_usd\":\"Price (USD)\"\n",
    "                   }, title=\"Body and engine type vs. Price\")\n",
    "box_engine.update_layout(\n",
    "    width = 1200\n",
    ")\n",
    "\n",
    "box_engine.show()"
   ]
  },
  {
   "cell_type": "markdown",
   "metadata": {
    "collapsed": false
   },
   "source": [
    "This figure represents the relationship between the body and engine type of a car and its price. According to the chart, the prices between gasoline and diesel engines do not differ significantly. However, cars with electric engines have a significantly higher price than their respective gasoline or engine counterparts. The prices ranges do not vary greatly, they lie between $5k to $10k depending on body type. However, SUVs and pickups are the most expensive with a median price around $10k. \n",
    "\n"
   ]
  },
  {
   "cell_type": "markdown",
   "metadata": {
    "collapsed": false
   },
   "source": [
    "# Conclusion \\- Relationship Between Car Features and Price\n",
    "\n",
    "Our central question is, \"Do different features affect the listing price of cars?\" From our figures and data, we have concluded that various features influence the price of a car, such as the manufacturer, transmission, and year produced. Unexpectedly, we also found that cars sold in a certain region had a higher average price. However, some features like the body type and color did not influence the price as much.\n",
    "\n"
   ]
  },
  {
   "cell_type": "code",
   "execution_count": 0,
   "metadata": {
    "collapsed": false
   },
   "outputs": [
   ],
   "source": [
   ]
  }
 ],
 "metadata": {
  "kernelspec": {
   "display_name": "Python (ds_env)",
   "language": "python",
   "metadata": {
    "debugger": true
   },
   "name": "ds_env",
   "resource_dir": "/projects/f495fefc-ad07-40d7-85d0-0e5004b08281/.local/share/jupyter/kernels/ds_env"
  },
  "language_info": {
   "codemirror_mode": {
    "name": "ipython",
    "version": 3
   },
   "file_extension": ".py",
   "mimetype": "text/x-python",
   "name": "python",
   "nbconvert_exporter": "python",
   "pygments_lexer": "ipython3",
   "version": "3.8.13"
  }
 },
 "nbformat": 4,
 "nbformat_minor": 4
}