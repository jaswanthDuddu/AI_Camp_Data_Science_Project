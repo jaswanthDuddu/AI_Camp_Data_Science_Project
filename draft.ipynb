{
 "cells": [
  {
   "cell_type": "code",
   "execution_count": 0,
   "metadata": {
    "collapsed": false
   },
   "outputs": [
   ],
   "source": [
    "import pandas as pd\n",
    "import plotly.express as px\n",
    "\n",
    "\n",
    "#reading the data file\n",
    "car_df = pd.read_csv(\"data/car_data.csv\")\n",
    "\n",
    "#Make a list of what you want to drop\n",
    "columns_to_drop = ['feature_0', 'feature_1', 'feature_2',\n",
    "       'feature_3', 'feature_4', 'feature_5', 'feature_6', 'feature_7',\n",
    "       'feature_8', 'feature_9', 'engine_fuel', 'up_counter']\n",
    "\n",
    "#Drop the columns using drop()\n",
    "car_df.drop(columns_to_drop, axis=1, inplace = True) #axis = 1 lets pandas know we are dropping columns, not rows.\n",
    "\n",
    "#replacing russian with english\n",
    "car_df[\"location_region\"].replace({\"Минская обл.\":\"Minsk\",\"Гомельская обл.\":\"Gomel\", \"Витебская обл.\":\"Vitebsk\", \"Брестская обл.\":\"Brest\", \"Могилевская обл.\":\"Mogilev\", \"Гродненская обл.\":\"Grodno\"}, inplace=True)"
   ]
  },
  {
   "cell_type": "code",
   "execution_count": 0,
   "metadata": {
    "collapsed": false
   },
   "outputs": [
   ],
   "source": [
    "car_df.info()"
   ]
  },
  {
   "cell_type": "code",
   "execution_count": 0,
   "metadata": {
    "collapsed": false
   },
   "outputs": [
   ],
   "source": [
    "car_df.columns"
   ]
  },
  {
   "cell_type": "code",
   "execution_count": 0,
   "metadata": {
    "collapsed": false
   },
   "outputs": [
   ],
   "source": [
    "car_df.head(1)"
   ]
  },
  {
   "cell_type": "code",
   "execution_count": 0,
   "metadata": {
    "collapsed": false
   },
   "outputs": [
   ],
   "source": [
    "car_df['manufacturer_name'].value_counts()"
   ]
  },
  {
   "cell_type": "code",
   "execution_count": 0,
   "metadata": {
    "collapsed": false
   },
   "outputs": [
   ],
   "source": [
    "car_df['transmission'].value_counts()"
   ]
  },
  {
   "cell_type": "code",
   "execution_count": 0,
   "metadata": {
    "collapsed": false
   },
   "outputs": [
   ],
   "source": [
    "car_df[\"engine_type\"].value_counts().plot.pie()"
   ]
  },
  {
   "cell_type": "code",
   "execution_count": 0,
   "metadata": {
    "collapsed": false
   },
   "outputs": [
   ],
   "source": [
    "#scatter plot graphs"
   ]
  },
  {
   "cell_type": "code",
   "execution_count": 0,
   "metadata": {
    "collapsed": false
   },
   "outputs": [
   ],
   "source": [
    "y=[]\n",
    "\n",
    "for i in car_df[\"price_usd\"]:\n",
    "    if(i<=10000):\n",
    "        y.append(\"0-10K\")\n",
    "    elif(i<=20000):\n",
    "        y.append(\"10K-20K\")\n",
    "    elif(i<=30000):\n",
    "        y.append(\"20K-30K\")\n",
    "    elif(i<=40000):\n",
    "        y.append(\"30K-40K\")\n",
    "    elif(i<=50000):\n",
    "        y.append(\"40K-50K\")\n",
    "\n",
    "z={\n",
    "    \"Price(USD)\":y,\n",
    "    \"Time(Days)\":car_df['duration_listed'],\n",
    "    \"Price($)\":car_df['price_usd']\n",
    "}\n",
    "avgPrice_df = pd.DataFrame(data=z)\n",
    "avgPrice_df.sort_values(by=\"Price(USD)\", ascending=True, inplace=True)\n",
    "box_manufacturer = px.scatter(avgPrice_df, x=\"Price(USD)\", y=\"Time(Days)\", color = \"Price($)\")\n",
    "\n",
    "box_manufacturer.update_layout(\n",
    "    width = 475,\n",
    "    title = 'Price VS Duration Before Car Sold'\n",
    ")\n",
    "box_manufacturer.show()\n"
   ]
  },
  {
   "cell_type": "code",
   "execution_count": 0,
   "metadata": {
    "collapsed": false
   },
   "outputs": [
   ],
   "source": [
    "k=[]\n",
    "\n",
    "for i in car_df[\"odometer_value\"]:\n",
    "    if(i<=200000):\n",
    "        k.append(\"0-200K\")\n",
    "    elif(i<=400000):\n",
    "        k.append(\"200K-400K\")\n",
    "    elif(i<=600000):\n",
    "        k.append(\"400K-600K\")\n",
    "    elif(i<=800000):\n",
    "        k.append(\"600K-800K\")\n",
    "    elif(i<=1000000):\n",
    "        k.append(\"800K-1000K\")\n",
    "\n",
    "z={\n",
    "    \"Odometer(Kilometers)\":k,\n",
    "    \"Time(Days)\":car_df['duration_listed'],\n",
    "    \"Odometer(KM)\":car_df['odometer_value']\n",
    "}\n",
    "avgPrice_df = pd.DataFrame(data=z)\n",
    "avgPrice_df.sort_values(by=\"Odometer(KM)\", ascending=True, inplace=True)\n",
    "box_manufacturer = px.scatter(avgPrice_df, x=\"Odometer(Kilometers)\", y=\"Time(Days)\", color = \"Odometer(KM)\")\n",
    "\n",
    "box_manufacturer.update_layout(\n",
    "    width = 600,\n",
    "    title = 'Odometer VS Duration Before Car Sold'\n",
    ")\n",
    "box_manufacturer.show()\n"
   ]
  },
  {
   "cell_type": "code",
   "execution_count": 0,
   "metadata": {
    "collapsed": false
   },
   "outputs": [
   ],
   "source": [
    "sc_yeardrive = px.scatter(car_df, x=\"year_produced\", y=\"duration_listed\",facet_row=\"transmission\", facet_col=\"drivetrain\", labels={\n",
    "                             \"year_produced\":\"Year Produced\",\n",
    "                             \"duration_listed\":\"Duration Listed(Days)\",\n",
    "                             \"transmission\":\"Transmission\",\n",
    "                             \"drivetrain\":\"Drivetrain\"\n",
    "                         })\n",
    "\n",
    "sc_yeardrive.update_layout(\n",
    "        width=1000,\n",
    "        title = 'Duration Before Car Sold VS Car Specifications'\n",
    ")\n",
    "\n",
    "sc_yeardrive.show()"
   ]
  },
  {
   "cell_type": "code",
   "execution_count": 0,
   "metadata": {
    "collapsed": false
   },
   "outputs": [
   ],
   "source": [
    "x = car_df['manufacturer_name'].value_counts()\n",
    "y=[]\n",
    "for name in x.index:\n",
    "    y.append(car_df[car_df[\"manufacturer_name\"] == name]['duration_listed'].mean())\n",
    "z={\n",
    "    \"Manufacturer Name\":x.index,\n",
    "    \"Average Time(Days)\":y\n",
    "}\n",
    "avgPrice_df = pd.DataFrame(data=z)\n",
    "avgPrice_df.sort_values(by=\"Average Time(Days)\", ascending=True, inplace=True)\n",
    "box_manufacturer = px.bar(avgPrice_df, x=\"Manufacturer Name\", y=\"Average Time(Days)\")\n",
    "box_manufacturer.update_layout(\n",
    "    title = 'Manufacturer Name VS Average Duration Before Car Sold',\n",
    "    width=1100\n",
    ")\n",
    "\n",
    "box_manufacturer.show()"
   ]
  },
  {
   "cell_type": "code",
   "execution_count": 0,
   "metadata": {
    "collapsed": false
   },
   "outputs": [
   ],
   "source": [
    "x = car_df['body_type'].value_counts()\n",
    "y=[]\n",
    "for name in x.index:\n",
    "    y.append(car_df[car_df[\"body_type\"] == name]['duration_listed'].mean())\n",
    "z={\n",
    "    \"Body Type\":x.index,\n",
    "    \"Average Time(Days)\":y\n",
    "}\n",
    "avgPrice_df = pd.DataFrame(data=z)\n",
    "#avgPrice_df.sort_values(by=\"Average Time(Days)\", ascending=True, inplace=True)\n",
    "box_manufacturer = px.bar(avgPrice_df, x=\"Body Type\", y=\"Average Time(Days)\", color=\"Body Type\")\n",
    "box_manufacturer.update_layout(\n",
    "    title = 'Body Type VS Average Duration Before Car Sold',\n",
    "    width=500\n",
    ")\n",
    "\n",
    "box_manufacturer.show()"
   ]
  },
  {
   "cell_type": "code",
   "execution_count": 0,
   "metadata": {
    "collapsed": false
   },
   "outputs": [
   ],
   "source": [
    "x = car_df['engine_type'].value_counts()\n",
    "y=[]\n",
    "for name in x.index:\n",
    "    y.append(car_df[car_df[\"engine_type\"] == name]['duration_listed'].mean())\n",
    "z={\n",
    "    \"Engine Type\":x.index,\n",
    "    \"Average Time(Days)\":y\n",
    "}\n",
    "avgPrice_df = pd.DataFrame(data=z)\n",
    "avgPrice_df.sort_values(by=\"Average Time(Days)\", ascending=True, inplace=True)\n",
    "box_manufacturer = px.bar(avgPrice_df, x=\"Engine Type\", y=\"Average Time(Days)\")\n",
    "box_manufacturer.update_layout(\n",
    "    title = 'Engine Type VS Average Duration Before Car Sold',\n",
    "    width=500\n",
    ")\n",
    "\n",
    "box_manufacturer.show()"
   ]
  },
  {
   "cell_type": "code",
   "execution_count": 0,
   "metadata": {
    "collapsed": false
   },
   "outputs": [
   ],
   "source": [
    "x = car_df['color'].value_counts()\n",
    "y=[]\n",
    "for name in x.index:\n",
    "    y.append(car_df[car_df[\"color\"] == name]['duration_listed'].mean())\n",
    "z={\n",
    "    \"Color\":x.index,\n",
    "    \"Average Time(Days)\":y\n",
    "}\n",
    "avgPrice_df = pd.DataFrame(data=z)\n",
    "avgPrice_df.sort_values(by=\"Average Time(Days)\", ascending=False, inplace=True)\n",
    "box_manufacturer = px.bar(avgPrice_df, x=\"Color\", y=\"Average Time(Days)\", color='Color',color_discrete_map={'orange':'orange', 'yellow':'yellow', 'white':'white', 'black':'black', 'violet':'purple', 'silver':'lightslategrey', 'other':'violet',\n",
    "       'blue':'blue', 'green':'green', 'grey':'grey', 'red':'red', 'brown':'saddlebrown'})\n",
    "box_manufacturer.update_layout(\n",
    "    title = 'Color VS Average Duration Before Car Sold',\n",
    "    width=800\n",
    ")\n",
    "\n",
    "box_manufacturer.show()"
   ]
  },
  {
   "cell_type": "code",
   "execution_count": 0,
   "metadata": {
    "collapsed": false
   },
   "outputs": [
   ],
   "source": [
   ]
  },
  {
   "cell_type": "code",
   "execution_count": 0,
   "metadata": {
    "collapsed": false
   },
   "outputs": [
   ],
   "source": [
   ]
  }
 ],
 "metadata": {
  "kernelspec": {
   "display_name": "Python (ds_env)",
   "language": "python",
   "metadata": {
    "debugger": true
   },
   "name": "ds_env",
   "resource_dir": "/projects/f495fefc-ad07-40d7-85d0-0e5004b08281/.local/share/jupyter/kernels/ds_env"
  }
 },
 "nbformat": 4,
 "nbformat_minor": 4
}